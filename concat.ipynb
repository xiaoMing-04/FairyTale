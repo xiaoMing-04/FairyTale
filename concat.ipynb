{
 "cells": [
  {
   "cell_type": "code",
   "execution_count": 1,
   "id": "7b6c8d36",
   "metadata": {},
   "outputs": [],
   "source": [
    "import nbformat"
   ]
  },
  {
   "cell_type": "code",
   "execution_count": 2,
   "id": "489b257f",
   "metadata": {},
   "outputs": [],
   "source": [
    "def merge_notebooks(output_file, *input_files):\n",
    "    # Tạo một notebook mới để chứa nội dung nối\n",
    "    merged_nb = nbformat.v4.new_notebook()\n",
    "    \n",
    "    # Lặp qua từng file đầu vào\n",
    "    for file in input_files:\n",
    "        with open(file, 'r', encoding='utf-8') as f:\n",
    "            nb = nbformat.read(f, as_version=4)\n",
    "            # Thêm tất cả các cell từ file hiện tại vào notebook mới\n",
    "            merged_nb.cells.extend(nb.cells)\n",
    "    \n",
    "    # Ghi notebook đã nối ra file mới\n",
    "    with open(output_file, 'w', encoding='utf-8') as f:\n",
    "        nbformat.write(merged_nb, f)"
   ]
  },
  {
   "cell_type": "code",
   "execution_count": 3,
   "id": "a2cf4c92",
   "metadata": {},
   "outputs": [],
   "source": [
    "# Ví dụ sử dụng\n",
    "merge_notebooks('final_modeling.ipynb', 'modeling.ipynb', 'xiaoming.ipynb')"
   ]
  },
  {
   "cell_type": "code",
   "execution_count": null,
   "id": "d0794180",
   "metadata": {},
   "outputs": [],
   "source": []
  }
 ],
 "metadata": {
  "kernelspec": {
   "display_name": "Python 3 (ipykernel)",
   "language": "python",
   "name": "python3"
  },
  "language_info": {
   "codemirror_mode": {
    "name": "ipython",
    "version": 3
   },
   "file_extension": ".py",
   "mimetype": "text/x-python",
   "name": "python",
   "nbconvert_exporter": "python",
   "pygments_lexer": "ipython3",
   "version": "3.11.7"
  }
 },
 "nbformat": 4,
 "nbformat_minor": 5
}
